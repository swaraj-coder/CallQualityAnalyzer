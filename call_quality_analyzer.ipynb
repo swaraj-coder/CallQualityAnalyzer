{
  "cells": [
    {
      "cell_type": "markdown",
      "metadata": {
        "id": "view-in-github",
        "colab_type": "text"
      },
      "source": [
        "<a href=\"https://colab.research.google.com/github/swaraj-coder/CallQualityAnalyzer/blob/main/call_quality_analyzer.ipynb\" target=\"_parent\"><img src=\"https://colab.research.google.com/assets/colab-badge.svg\" alt=\"Open In Colab\"/></a>"
      ]
    },
    {
      "cell_type": "markdown",
      "metadata": {
        "id": "OSqSQxeUKh0Y"
      },
      "source": [
        "# Call Quality Analyzer\n",
        "\n",
        "## Setup & Imports\n"
      ]
    },
    {
      "cell_type": "code",
      "execution_count": 72,
      "metadata": {
        "id": "r95VDdsBrjEG"
      },
      "outputs": [],
      "source": [
        "!pip install -q yt-dlp pydub openai-whisper resemblyzer transformers\n"
      ]
    },
    {
      "cell_type": "code",
      "execution_count": 73,
      "metadata": {
        "id": "C-BX5rQprlig"
      },
      "outputs": [],
      "source": [
        "import os, re, sys, math, time\n",
        "import numpy as np\n",
        "\n",
        "def check_ssl_available():\n",
        "    try:\n",
        "        import ssl\n",
        "        return True\n",
        "    except ImportError:\n",
        "        return False\n"
      ]
    },
    {
      "cell_type": "code",
      "source": [
        "!pip install yt-dlp\n",
        "\n",
        "import yt_dlp\n",
        "\n",
        "def download_youtube_audio(url, out_fname=\"call_raw.wav\"):\n",
        "    ydl_opts = {\n",
        "        \"format\": \"bestaudio/best\",\n",
        "        \"outtmpl\": out_fname,\n",
        "        \"postprocessors\": [\n",
        "            {\"key\": \"FFmpegExtractAudio\", \"preferredcodec\": \"wav\", \"preferredquality\": \"192\"},\n",
        "        ],\n",
        "        \"http_headers\": {\n",
        "            \"User-Agent\": \"Mozilla/5.0 (Windows NT 10.0; Win64; x64)\",\n",
        "            \"Accept-Language\": \"en-US,en;q=0.5\"\n",
        "        }\n",
        "    }\n",
        "\n",
        "    with yt_dlp.YoutubeDL(ydl_opts) as ydl:\n",
        "        ydl.download([url])\n",
        "    return out_fname\n"
      ],
      "metadata": {
        "colab": {
          "base_uri": "https://localhost:8080/"
        },
        "id": "ODtQfBiONNCu",
        "outputId": "d37c4b82-bb59-404c-aa05-563d890e75b7"
      },
      "execution_count": 74,
      "outputs": [
        {
          "output_type": "stream",
          "name": "stdout",
          "text": [
            "Requirement already satisfied: yt-dlp in /usr/local/lib/python3.12/dist-packages (2025.9.5)\n"
          ]
        }
      ]
    },
    {
      "cell_type": "code",
      "source": [
        "!pip install pytube\n",
        "\n",
        "from pytube import YouTube\n",
        "\n",
        "def download_youtube_audio(url, out_fname=\"call_raw.wav\"):\n",
        "    yt = YouTube(url)\n",
        "    stream = yt.streams.filter(only_audio=True).first()\n",
        "    out_file = stream.download(filename=\"temp_audio.mp4\")\n",
        "\n",
        "    # convert to wav\n",
        "    from pydub import AudioSegment\n",
        "    sound = AudioSegment.from_file(out_file)\n",
        "    sound.export(out_fname, format=\"wav\")\n",
        "    return out_fname\n"
      ],
      "metadata": {
        "colab": {
          "base_uri": "https://localhost:8080/"
        },
        "id": "xZotbiHPNT7L",
        "outputId": "5cd57934-cccb-42f3-f95a-e6493ebef081"
      },
      "execution_count": 75,
      "outputs": [
        {
          "output_type": "stream",
          "name": "stdout",
          "text": [
            "Requirement already satisfied: pytube in /usr/local/lib/python3.12/dist-packages (15.0.0)\n"
          ]
        }
      ]
    },
    {
      "cell_type": "code",
      "execution_count": 76,
      "metadata": {
        "id": "ipsSQNJKr3KY"
      },
      "outputs": [],
      "source": [
        "# The yt-dlp download function defined here is causing conflicts.\n",
        "# The pytube version in cell xZotbiHPNT7L will be used instead.\n",
        "from pathlib import Path\n",
        "\n",
        "def download_youtube_audio(url, out_fname=\"call_raw.%(ext)s\"):\n",
        "    if not check_ssl_available():\n",
        "        from google.colab import files\n",
        "        uploaded = files.upload()\n",
        "        for fn in uploaded.keys():\n",
        "            return fn\n",
        "        raise RuntimeError(\"No SSL and no local file uploaded.\")\n",
        "\n",
        "    import yt_dlp\n",
        "    ydl_opts = {\n",
        "        'format': 'bestaudio/best',\n",
        "        'outtmpl': out_fname,\n",
        "        'postprocessors': [{'key': 'FFmpegExtractAudio','preferredcodec': 'wav','preferredquality': '192'}],\n",
        "    }\n",
        "    with yt_dlp.YoutubeDL(ydl_opts) as ydl:\n",
        "        ydl.download([url])\n",
        "    return \"call_raw.wav\""
      ]
    },
    {
      "cell_type": "code",
      "execution_count": 77,
      "metadata": {
        "id": "nmjeHB6zs1t4"
      },
      "outputs": [],
      "source": [
        "import warnings\n",
        "warnings.filterwarnings(\"ignore\", category=SyntaxWarning, module=\"pydub.utils\")\n"
      ]
    },
    {
      "cell_type": "code",
      "execution_count": 78,
      "metadata": {
        "id": "Ricf-7n5r7T-"
      },
      "outputs": [],
      "source": [
        "from pydub import AudioSegment\n",
        "from resemblyzer import VoiceEncoder, preprocess_wav\n",
        "from sklearn.cluster import KMeans\n",
        "import numpy as np\n",
        "\n",
        "def prepare_wav(in_wav=\"call_raw.wav\", out_wav=\"call_16k.wav\"):\n",
        "    sound = AudioSegment.from_file(in_wav)\n",
        "    sound = sound.set_channels(1).set_frame_rate(16000)\n",
        "    sound.export(out_wav, format=\"wav\")\n",
        "    return out_wav\n",
        "\n",
        "import numpy as np\n",
        "\n",
        "def diarize_by_embeddings(wav_fpath, window_s=1.2, hop_s=0.6, n_speakers=2):\n",
        "    wav = preprocess_wav(wav_fpath)\n",
        "    encoder = VoiceEncoder()\n",
        "\n",
        "    # Break wav into overlapping chunks and embed each\n",
        "    frames = []\n",
        "    i = 0\n",
        "    while i + int(window_s * 16000) <= len(wav):\n",
        "        chunk = wav[i:i + int(window_s * 16000)]\n",
        "        emb = encoder.embed_utterance(chunk)\n",
        "        frames.append(emb)\n",
        "        i += int(hop_s * 16000)\n",
        "\n",
        "    frames = np.vstack(frames)\n",
        "\n",
        "    # Cluster embeddings\n",
        "    kmeans = KMeans(n_clusters=n_speakers).fit(frames)\n",
        "    labels = kmeans.labels_\n",
        "\n",
        "    diarization = []\n",
        "    t = 0\n",
        "    for lab in labels:\n",
        "        diarization.append((t, t + hop_s, int(lab)))\n",
        "        t += hop_s\n",
        "\n",
        "    return diarization\n",
        "\n"
      ]
    },
    {
      "cell_type": "code",
      "execution_count": 79,
      "metadata": {
        "id": "20uqJsW8yifi"
      },
      "outputs": [],
      "source": [
        "from pydub.silence import detect_nonsilent\n",
        "from pydub import effects as pydub_effects\n",
        "\n",
        "def trim_nonsilent_audio(in_wav, out_wav='call_trimmed.wav',\n",
        "                         min_silence_len=400, silence_thresh=-40, keep_silence=200):\n",
        "    \"\"\"Remove long silent parts. Returns path to trimmed file.\"\"\"\n",
        "    if AudioSegment is None:\n",
        "        raise RuntimeError(\"pydub not installed.\")\n",
        "    sound = AudioSegment.from_file(in_wav)\n",
        "    nonsilent = detect_nonsilent(sound, min_silence_len=min_silence_len, silence_thresh=silence_thresh)\n",
        "    if not nonsilent:\n",
        "        # nothing to trim\n",
        "        sound.export(out_wav, format='wav')\n",
        "        return out_wav\n",
        "    pieces = []\n",
        "    for (start, end) in nonsilent:\n",
        "        s = max(0, start - keep_silence)\n",
        "        e = min(len(sound), end + keep_silence)\n",
        "        pieces.append(sound[s:e])\n",
        "    out = pieces[0]\n",
        "    for p in pieces[1:]:\n",
        "        out += p\n",
        "    out = pydub_effects.normalize(out)\n",
        "    out.export(out_wav, format='wav')\n",
        "    return out_wav\n"
      ]
    },
    {
      "cell_type": "code",
      "execution_count": 80,
      "metadata": {
        "id": "Di6Ynet4s_Dg"
      },
      "outputs": [],
      "source": [
        "import whisper\n",
        "\n",
        "def transcribe_whisper(wav_fpath, model_size=\"tiny\"):\n",
        "    model = whisper.load_model(model_size)\n",
        "    result = model.transcribe(wav_fpath)\n",
        "    return result[\"segments\"], result[\"text\"]\n"
      ]
    },
    {
      "cell_type": "code",
      "execution_count": 81,
      "metadata": {
        "id": "wzUahyHatCkL"
      },
      "outputs": [],
      "source": [
        "def align_and_analyze(segments, diar):\n",
        "    speaker_times, speaker_questions, longest_monologue = {}, {}, {}\n",
        "    transcript_by_speaker, combined = {}, []\n",
        "\n",
        "    for start, end, sp in diar:\n",
        "        speaker_times[sp] = speaker_times.get(sp, 0) + (end-start)\n",
        "    for seg in segments:\n",
        "        txt = seg[\"text\"]\n",
        "        sp = min(diar, key=lambda d: abs(d[0]-seg[\"start\"]))[2]\n",
        "        combined.append(f\"Speaker {sp}: {txt}\")\n",
        "        transcript_by_speaker.setdefault(sp, []).append(txt)\n",
        "        if \"?\" in txt: speaker_questions[sp] = speaker_questions.get(sp,0)+1\n",
        "        dur = seg[\"end\"]-seg[\"start\"]\n",
        "        if dur > longest_monologue.get(sp,0): longest_monologue[sp] = dur\n",
        "\n",
        "    total = sum(speaker_times.values())\n",
        "    ratios = {sp: (t/total*100) for sp,t in speaker_times.items()}\n",
        "    return {\n",
        "        \"talk_ratios\": ratios,\n",
        "        \"speaker_times\": speaker_times,\n",
        "        \"speaker_questions\": speaker_questions,\n",
        "        \"longest_monologue\": longest_monologue,\n",
        "        \"combined_transcript\": \"\\n\".join(combined),\n",
        "        \"speaker_texts\": transcript_by_speaker\n",
        "    }\n"
      ]
    },
    {
      "cell_type": "code",
      "execution_count": 82,
      "metadata": {
        "id": "4Di8MZdftHpR"
      },
      "outputs": [],
      "source": [
        "from transformers import pipeline\n",
        "\n",
        "def analyze_sentiment_and_insight(transcript, speaker_times, speaker_questions):\n",
        "    sent_pipeline = pipeline(\"sentiment-analysis\")\n",
        "    parts = transcript.split(\"\\n\")\n",
        "    sentiments = [sent_pipeline(p[:200])[0][\"label\"] for p in parts if p.strip()]\n",
        "    pos = sentiments.count(\"POSITIVE\"); neg = sentiments.count(\"NEGATIVE\")\n",
        "    overall = \"neutral\"\n",
        "    if pos > neg: overall = \"positive\"\n",
        "    elif neg > pos: overall = \"negative\"\n",
        "\n",
        "    rep = max(speaker_times, key=speaker_times.get)\n",
        "    insight = f\"Sales rep (speaker {rep}) dominates the call. Try listening more.\"\n",
        "    return overall, insight, rep\n"
      ]
    },
    {
      "cell_type": "code",
      "execution_count": 83,
      "metadata": {
        "id": "TB6UtVExtT_Z"
      },
      "outputs": [],
      "source": [
        "def run_full_pipeline(youtube_url):\n",
        "    # Step 1: Download YouTube audio\n",
        "    try:\n",
        "        raw_wav = download_youtube_audio(youtube_url, out_fname=\"call_raw.wav\")\n",
        "    except Exception as e:\n",
        "        print(f\"Download failed: {e}. Please manually upload the audio file.\")\n",
        "        from google.colab import files\n",
        "        uploaded = files.upload()\n",
        "        for fn in uploaded.keys():\n",
        "            raw_wav = fn\n",
        "            break\n",
        "        if not raw_wav:\n",
        "            raise RuntimeError(\"No file uploaded after download failed.\")\n",
        "\n",
        "\n",
        "    # Step 2: Trim silences (if you’ve defined trim_nonsilent_audio)\n",
        "    trimmed = trim_nonsilent_audio(raw_wav, out_wav=\"call_trimmed.wav\")\n",
        "\n",
        "    # Step 3: Prepare for 16kHz mono\n",
        "    wav16 = prepare_wav(trimmed, out_wav=\"call_16k.wav\")\n",
        "\n",
        "    # Step 4: Diarization\n",
        "    diar = diarize_by_embeddings(wav16, n_speakers=2)\n",
        "\n",
        "    # Step 5: Transcription\n",
        "    segs, full_text = transcribe_whisper(wav16)\n",
        "\n",
        "    # Step 6: Align & analyze\n",
        "    res = align_and_analyze(segs, diar)\n",
        "\n",
        "    # Step 7: Sentiment + actionable insight\n",
        "    sentiment, insight, rep = analyze_sentiment_and_insight(\n",
        "        res[\"combined_transcript\"], res[\"speaker_times\"], res[\"speaker_questions\"]\n",
        "    )\n",
        "\n",
        "    # Step 8: Print results\n",
        "    print(\"=== Final Results ===\")\n",
        "    print(\"Talk-time ratios:\", res[\"talk_ratios\"])\n",
        "    print(\"Questions:\", res[\"speaker_questions\"])\n",
        "    print(\"Longest monologues:\", res[\"longest_monologue\"])\n",
        "    print(\"Call sentiment:\", sentiment)\n",
        "    print(\"Actionable insight:\", insight)\n",
        "    print(f\"(Heuristic: speaker {rep} is likely the sales rep)\")\n",
        "    print(\"Transcript excerpt:\", res[\"combined_transcript\"][:400])\n",
        "\n",
        "    return res, sentiment, insight, rep"
      ]
    },
    {
      "cell_type": "code",
      "execution_count": 84,
      "metadata": {
        "id": "7gBhHmc-tZkM",
        "colab": {
          "base_uri": "https://localhost:8080/",
          "height": 1000
        },
        "outputId": "ad4c6a81-ac58-4b6c-d71c-1b14c8240cf1"
      },
      "outputs": [
        {
          "output_type": "stream",
          "name": "stdout",
          "text": [
            "[youtube] Extracting URL: https://www.youtube.com/watch?v=4ostqJD3Psc\n",
            "[youtube] 4ostqJD3Psc: Downloading webpage\n",
            "[youtube] 4ostqJD3Psc: Downloading tv simply player API JSON\n",
            "[youtube] 4ostqJD3Psc: Downloading tv client config\n",
            "[youtube] 4ostqJD3Psc: Downloading tv player API JSON\n",
            "[info] 4ostqJD3Psc: Downloading 1 format(s): 251\n"
          ]
        },
        {
          "output_type": "stream",
          "name": "stderr",
          "text": [
            "ERROR: unable to download video data: HTTP Error 403: Forbidden\n"
          ]
        },
        {
          "output_type": "stream",
          "name": "stdout",
          "text": [
            "Download failed: ERROR: unable to download video data: HTTP Error 403: Forbidden. Please manually upload the audio file.\n"
          ]
        },
        {
          "output_type": "display_data",
          "data": {
            "text/plain": [
              "<IPython.core.display.HTML object>"
            ],
            "text/html": [
              "\n",
              "     <input type=\"file\" id=\"files-b49dbbe6-e6ec-475b-948e-2078ddb38385\" name=\"files[]\" multiple disabled\n",
              "        style=\"border:none\" />\n",
              "     <output id=\"result-b49dbbe6-e6ec-475b-948e-2078ddb38385\">\n",
              "      Upload widget is only available when the cell has been executed in the\n",
              "      current browser session. Please rerun this cell to enable.\n",
              "      </output>\n",
              "      <script>// Copyright 2017 Google LLC\n",
              "//\n",
              "// Licensed under the Apache License, Version 2.0 (the \"License\");\n",
              "// you may not use this file except in compliance with the License.\n",
              "// You may obtain a copy of the License at\n",
              "//\n",
              "//      http://www.apache.org/licenses/LICENSE-2.0\n",
              "//\n",
              "// Unless required by applicable law or agreed to in writing, software\n",
              "// distributed under the License is distributed on an \"AS IS\" BASIS,\n",
              "// WITHOUT WARRANTIES OR CONDITIONS OF ANY KIND, either express or implied.\n",
              "// See the License for the specific language governing permissions and\n",
              "// limitations under the License.\n",
              "\n",
              "/**\n",
              " * @fileoverview Helpers for google.colab Python module.\n",
              " */\n",
              "(function(scope) {\n",
              "function span(text, styleAttributes = {}) {\n",
              "  const element = document.createElement('span');\n",
              "  element.textContent = text;\n",
              "  for (const key of Object.keys(styleAttributes)) {\n",
              "    element.style[key] = styleAttributes[key];\n",
              "  }\n",
              "  return element;\n",
              "}\n",
              "\n",
              "// Max number of bytes which will be uploaded at a time.\n",
              "const MAX_PAYLOAD_SIZE = 100 * 1024;\n",
              "\n",
              "function _uploadFiles(inputId, outputId) {\n",
              "  const steps = uploadFilesStep(inputId, outputId);\n",
              "  const outputElement = document.getElementById(outputId);\n",
              "  // Cache steps on the outputElement to make it available for the next call\n",
              "  // to uploadFilesContinue from Python.\n",
              "  outputElement.steps = steps;\n",
              "\n",
              "  return _uploadFilesContinue(outputId);\n",
              "}\n",
              "\n",
              "// This is roughly an async generator (not supported in the browser yet),\n",
              "// where there are multiple asynchronous steps and the Python side is going\n",
              "// to poll for completion of each step.\n",
              "// This uses a Promise to block the python side on completion of each step,\n",
              "// then passes the result of the previous step as the input to the next step.\n",
              "function _uploadFilesContinue(outputId) {\n",
              "  const outputElement = document.getElementById(outputId);\n",
              "  const steps = outputElement.steps;\n",
              "\n",
              "  const next = steps.next(outputElement.lastPromiseValue);\n",
              "  return Promise.resolve(next.value.promise).then((value) => {\n",
              "    // Cache the last promise value to make it available to the next\n",
              "    // step of the generator.\n",
              "    outputElement.lastPromiseValue = value;\n",
              "    return next.value.response;\n",
              "  });\n",
              "}\n",
              "\n",
              "/**\n",
              " * Generator function which is called between each async step of the upload\n",
              " * process.\n",
              " * @param {string} inputId Element ID of the input file picker element.\n",
              " * @param {string} outputId Element ID of the output display.\n",
              " * @return {!Iterable<!Object>} Iterable of next steps.\n",
              " */\n",
              "function* uploadFilesStep(inputId, outputId) {\n",
              "  const inputElement = document.getElementById(inputId);\n",
              "  inputElement.disabled = false;\n",
              "\n",
              "  const outputElement = document.getElementById(outputId);\n",
              "  outputElement.innerHTML = '';\n",
              "\n",
              "  const pickedPromise = new Promise((resolve) => {\n",
              "    inputElement.addEventListener('change', (e) => {\n",
              "      resolve(e.target.files);\n",
              "    });\n",
              "  });\n",
              "\n",
              "  const cancel = document.createElement('button');\n",
              "  inputElement.parentElement.appendChild(cancel);\n",
              "  cancel.textContent = 'Cancel upload';\n",
              "  const cancelPromise = new Promise((resolve) => {\n",
              "    cancel.onclick = () => {\n",
              "      resolve(null);\n",
              "    };\n",
              "  });\n",
              "\n",
              "  // Wait for the user to pick the files.\n",
              "  const files = yield {\n",
              "    promise: Promise.race([pickedPromise, cancelPromise]),\n",
              "    response: {\n",
              "      action: 'starting',\n",
              "    }\n",
              "  };\n",
              "\n",
              "  cancel.remove();\n",
              "\n",
              "  // Disable the input element since further picks are not allowed.\n",
              "  inputElement.disabled = true;\n",
              "\n",
              "  if (!files) {\n",
              "    return {\n",
              "      response: {\n",
              "        action: 'complete',\n",
              "      }\n",
              "    };\n",
              "  }\n",
              "\n",
              "  for (const file of files) {\n",
              "    const li = document.createElement('li');\n",
              "    li.append(span(file.name, {fontWeight: 'bold'}));\n",
              "    li.append(span(\n",
              "        `(${file.type || 'n/a'}) - ${file.size} bytes, ` +\n",
              "        `last modified: ${\n",
              "            file.lastModifiedDate ? file.lastModifiedDate.toLocaleDateString() :\n",
              "                                    'n/a'} - `));\n",
              "    const percent = span('0% done');\n",
              "    li.appendChild(percent);\n",
              "\n",
              "    outputElement.appendChild(li);\n",
              "\n",
              "    const fileDataPromise = new Promise((resolve) => {\n",
              "      const reader = new FileReader();\n",
              "      reader.onload = (e) => {\n",
              "        resolve(e.target.result);\n",
              "      };\n",
              "      reader.readAsArrayBuffer(file);\n",
              "    });\n",
              "    // Wait for the data to be ready.\n",
              "    let fileData = yield {\n",
              "      promise: fileDataPromise,\n",
              "      response: {\n",
              "        action: 'continue',\n",
              "      }\n",
              "    };\n",
              "\n",
              "    // Use a chunked sending to avoid message size limits. See b/62115660.\n",
              "    let position = 0;\n",
              "    do {\n",
              "      const length = Math.min(fileData.byteLength - position, MAX_PAYLOAD_SIZE);\n",
              "      const chunk = new Uint8Array(fileData, position, length);\n",
              "      position += length;\n",
              "\n",
              "      const base64 = btoa(String.fromCharCode.apply(null, chunk));\n",
              "      yield {\n",
              "        response: {\n",
              "          action: 'append',\n",
              "          file: file.name,\n",
              "          data: base64,\n",
              "        },\n",
              "      };\n",
              "\n",
              "      let percentDone = fileData.byteLength === 0 ?\n",
              "          100 :\n",
              "          Math.round((position / fileData.byteLength) * 100);\n",
              "      percent.textContent = `${percentDone}% done`;\n",
              "\n",
              "    } while (position < fileData.byteLength);\n",
              "  }\n",
              "\n",
              "  // All done.\n",
              "  yield {\n",
              "    response: {\n",
              "      action: 'complete',\n",
              "    }\n",
              "  };\n",
              "}\n",
              "\n",
              "scope.google = scope.google || {};\n",
              "scope.google.colab = scope.google.colab || {};\n",
              "scope.google.colab._files = {\n",
              "  _uploadFiles,\n",
              "  _uploadFilesContinue,\n",
              "};\n",
              "})(self);\n",
              "</script> "
            ]
          },
          "metadata": {}
        },
        {
          "output_type": "stream",
          "name": "stdout",
          "text": [
            "Saving Sales Call example 1.mp3 to Sales Call example 1 (1).mp3\n",
            "Loaded the voice encoder model on cpu in 0.01 seconds.\n"
          ]
        },
        {
          "output_type": "stream",
          "name": "stderr",
          "text": [
            "/usr/local/lib/python3.12/dist-packages/whisper/transcribe.py:132: UserWarning: FP16 is not supported on CPU; using FP32 instead\n",
            "  warnings.warn(\"FP16 is not supported on CPU; using FP32 instead\")\n",
            "No model was supplied, defaulted to distilbert/distilbert-base-uncased-finetuned-sst-2-english and revision 714eb0f (https://huggingface.co/distilbert/distilbert-base-uncased-finetuned-sst-2-english).\n",
            "Using a pipeline without specifying a model name and revision in production is not recommended.\n",
            "Device set to use cpu\n"
          ]
        },
        {
          "output_type": "stream",
          "name": "stdout",
          "text": [
            "=== Final Results ===\n",
            "Talk-time ratios: {0: 59.66850828729275, 1: 40.33149171270725}\n",
            "Questions: {0: 6, 1: 2}\n",
            "Longest monologues: {0: 5.440000000000012, 1: 4.74}\n",
            "Call sentiment: negative\n",
            "Actionable insight: Sales rep (speaker 0) dominates the call. Try listening more.\n",
            "(Heuristic: speaker 0 is likely the sales rep)\n",
            "Transcript excerpt: Speaker 0:  Thank you for calling Nissan. My name is Lauren. Can I have your name?\n",
            "Speaker 1:  Hamany, Miss John Smith.\n",
            "Speaker 0:  Thank you, John. How can I help you?\n",
            "Speaker 1:  I was just calling about to see how much it would cost to update the map in my car.\n",
            "Speaker 0:  I'd be happy to help you with that today. Did you receive a mail-air from us?\n",
            "Speaker 1:  I did. Do you need the customer n\n"
          ]
        },
        {
          "output_type": "execute_result",
          "data": {
            "text/plain": [
              "({'talk_ratios': {0: 59.66850828729275, 1: 40.33149171270725},\n",
              "  'speaker_times': {0: 64.79999999999974, 1: 43.79999999999994},\n",
              "  'speaker_questions': {0: 6, 1: 2},\n",
              "  'longest_monologue': {0: 5.440000000000012, 1: 4.74},\n",
              "  'combined_transcript': \"Speaker 0:  Thank you for calling Nissan. My name is Lauren. Can I have your name?\\nSpeaker 1:  Hamany, Miss John Smith.\\nSpeaker 0:  Thank you, John. How can I help you?\\nSpeaker 1:  I was just calling about to see how much it would cost to update the map in my car.\\nSpeaker 0:  I'd be happy to help you with that today. Did you receive a mail-air from us?\\nSpeaker 1:  I did. Do you need the customer number?\\nSpeaker 1:  Yes, please.\\nSpeaker 1:  Okay. It's 15243.\\nSpeaker 0:  Thank you. And the year making model of your vehicle?\\nSpeaker 1:  Yeah, I have a 2009 Nissan Altaman.\\nSpeaker 1:  So nice car.\\nSpeaker 1:  Yeah, thank you. We really enjoy it.\\nSpeaker 0:  Okay. I think I found your profile here. Can I have you verify your address and phone number, please?\\nSpeaker 1:  Yes. It's 1265 North Research Way.\\nSpeaker 1:  That's an OM Utah 84097.\\nSpeaker 1:  And my phone number is A01-431-1000.\\nSpeaker 0:  Thanks, John. I located your information.\\nSpeaker 0:  The newest version we have available for your vehicle is version 7.7 which was released\\nSpeaker 0:  in March of 2012.\\nSpeaker 0:  The price of the new map is $99 in plus shipping attacks.\\nSpeaker 0:  Let me go ahead and set up this order for you.\\nSpeaker 1:  Well, can we wait just a second? I'm not really sure if I can afford it right now.\\nSpeaker 0:  All right. Well, here are a few reasons to consider purchasing today.\\nSpeaker 0:  It looks as though you haven't updated your vehicle for three years.\\nSpeaker 0:  So that would be the equivalent of getting three years worth of updates for the price of one.\\nSpeaker 0:  Okay.\\nSpeaker 0:  In addition, special offers like the current promotion don't come around too often.\\nSpeaker 0:  I would definitely recommend taking advantage of the extra $50 off before it expires.\\nSpeaker 1:  Yeah, but it doesn't sound pretty good.\\nSpeaker 0:  I set this order up for you now. It'll ship out today and for $50 less.\\nSpeaker 0:  Do you have your credit card handy and I can play this order for you now?\\nSpeaker 1:  Yeah, let's go ahead and use your visa.\\nSpeaker 1:  My number.\",\n",
              "  'speaker_texts': {0: [' Thank you for calling Nissan. My name is Lauren. Can I have your name?',\n",
              "    ' Thank you, John. How can I help you?',\n",
              "    \" I'd be happy to help you with that today. Did you receive a mail-air from us?\",\n",
              "    ' Thank you. And the year making model of your vehicle?',\n",
              "    ' Okay. I think I found your profile here. Can I have you verify your address and phone number, please?',\n",
              "    ' Thanks, John. I located your information.',\n",
              "    ' The newest version we have available for your vehicle is version 7.7 which was released',\n",
              "    ' in March of 2012.',\n",
              "    ' The price of the new map is $99 in plus shipping attacks.',\n",
              "    ' Let me go ahead and set up this order for you.',\n",
              "    ' All right. Well, here are a few reasons to consider purchasing today.',\n",
              "    \" It looks as though you haven't updated your vehicle for three years.\",\n",
              "    ' So that would be the equivalent of getting three years worth of updates for the price of one.',\n",
              "    ' Okay.',\n",
              "    \" In addition, special offers like the current promotion don't come around too often.\",\n",
              "    ' I would definitely recommend taking advantage of the extra $50 off before it expires.',\n",
              "    \" I set this order up for you now. It'll ship out today and for $50 less.\",\n",
              "    ' Do you have your credit card handy and I can play this order for you now?'],\n",
              "   1: [' Hamany, Miss John Smith.',\n",
              "    ' I was just calling about to see how much it would cost to update the map in my car.',\n",
              "    ' I did. Do you need the customer number?',\n",
              "    ' Yes, please.',\n",
              "    \" Okay. It's 15243.\",\n",
              "    ' Yeah, I have a 2009 Nissan Altaman.',\n",
              "    ' So nice car.',\n",
              "    ' Yeah, thank you. We really enjoy it.',\n",
              "    \" Yes. It's 1265 North Research Way.\",\n",
              "    \" That's an OM Utah 84097.\",\n",
              "    ' And my phone number is A01-431-1000.',\n",
              "    \" Well, can we wait just a second? I'm not really sure if I can afford it right now.\",\n",
              "    \" Yeah, but it doesn't sound pretty good.\",\n",
              "    \" Yeah, let's go ahead and use your visa.\",\n",
              "    ' My number.']}},\n",
              " 'negative',\n",
              " 'Sales rep (speaker 0) dominates the call. Try listening more.',\n",
              " 0)"
            ]
          },
          "metadata": {},
          "execution_count": 84
        }
      ],
      "source": [
        "run_full_pipeline(\"https://www.youtube.com/watch?v=4ostqJD3Psc\")\n"
      ]
    },
    {
      "cell_type": "code",
      "metadata": {
        "id": "f4d06479"
      },
      "source": [
        "readme_content = \"\"\"# Call Quality Analyzer\n",
        "\n",
        "This project analyzes sales call recordings and returns:\n",
        "1. Talk-time ratio (what % each person spoke)\n",
        "2. Number of questions asked\n",
        "3. Longest monologue duration\n",
        "4. Call sentiment (positive/negative/neutral)\n",
        "5. One actionable insight\n",
        "\n",
        "**Bonus:** It also heuristically identifies the sales rep.\n",
        "\n",
        "### How to run\n",
        "- Open `call_quality_analyzer.ipynb` in Google Colab.\n",
        "- Run all cells top to bottom.\n",
        "- Provide a YouTube link (e.g. https://www.youtube.com/watch?v=4ostqJD3Psc).\n",
        "- The notebook will download audio, process it, and print results within ~30s.\n",
        "\n",
        "### Requirements\n",
        "- Free Google Colab tier (CPU is fine).\n",
        "- Python packages: `pydub`, `resemblyzer`, `scikit-learn`, `transformers`, `yt-dlp`, `openai-whisper`.\n",
        "\"\"\"\n",
        "\n",
        "with open(\"README.md\", \"w\") as f:\n",
        "    f.write(readme_content)\n"
      ],
      "execution_count": 85,
      "outputs": []
    }
  ],
  "metadata": {
    "colab": {
      "provenance": [],
      "authorship_tag": "ABX9TyMF56WBZQ7do3O7UW9JDAq8",
      "include_colab_link": true
    },
    "kernelspec": {
      "display_name": "Python 3",
      "name": "python3"
    },
    "language_info": {
      "name": "python"
    }
  },
  "nbformat": 4,
  "nbformat_minor": 0
}