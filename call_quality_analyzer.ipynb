{
  "cells": [
    {
      "cell_type": "markdown",
      "metadata": {
        "id": "view-in-github",
        "colab_type": "text"
      },
      "source": [
        "<a href=\"https://colab.research.google.com/github/swaraj-coder/CallQualityAnalyzer/blob/main/call_quality_analyzer.ipynb\" target=\"_parent\"><img src=\"https://colab.research.google.com/assets/colab-badge.svg\" alt=\"Open In Colab\"/></a>"
      ]
    },
    {
      "cell_type": "markdown",
      "metadata": {
        "id": "OSqSQxeUKh0Y"
      },
      "source": [
        "# Call Quality Analyzer\n",
        "\n",
        "## Setup & Imports\n"
      ]
    },
    {
      "cell_type": "code",
      "execution_count": 36,
      "metadata": {
        "id": "r95VDdsBrjEG"
      },
      "outputs": [],
      "source": [
        "!pip install -q yt-dlp pydub openai-whisper resemblyzer transformers\n"
      ]
    },
    {
      "cell_type": "code",
      "execution_count": 37,
      "metadata": {
        "id": "C-BX5rQprlig"
      },
      "outputs": [],
      "source": [
        "import os, re, sys, math, time\n",
        "import numpy as np\n",
        "\n",
        "def check_ssl_available():\n",
        "    try:\n",
        "        import ssl\n",
        "        return True\n",
        "    except ImportError:\n",
        "        return False\n"
      ]
    },
    {
      "cell_type": "code",
      "execution_count": 38,
      "metadata": {
        "id": "ipsSQNJKr3KY"
      },
      "outputs": [],
      "source": [
        "from pathlib import Path\n",
        "\n",
        "def download_youtube_audio(url, out_fname=\"call_raw.%(ext)s\"):\n",
        "    if not check_ssl_available():\n",
        "        from google.colab import files\n",
        "        uploaded = files.upload()\n",
        "        for fn in uploaded.keys():\n",
        "            return fn\n",
        "        raise RuntimeError(\"No SSL and no local file uploaded.\")\n",
        "\n",
        "    import yt_dlp\n",
        "    ydl_opts = {\n",
        "        'format': 'bestaudio/best',\n",
        "        'outtmpl': out_fname,\n",
        "        'postprocessors': [{'key': 'FFmpegExtractAudio','preferredcodec': 'wav','preferredquality': '192'}],\n",
        "    }\n",
        "    with yt_dlp.YoutubeDL(ydl_opts) as ydl:\n",
        "        ydl.download([url])\n",
        "    return \"call_raw.wav\"\n"
      ]
    },
    {
      "cell_type": "code",
      "execution_count": 39,
      "metadata": {
        "id": "nmjeHB6zs1t4"
      },
      "outputs": [],
      "source": [
        "import warnings\n",
        "warnings.filterwarnings(\"ignore\", category=SyntaxWarning, module=\"pydub.utils\")\n"
      ]
    },
    {
      "cell_type": "code",
      "execution_count": 40,
      "metadata": {
        "id": "Ricf-7n5r7T-"
      },
      "outputs": [],
      "source": [
        "from pydub import AudioSegment\n",
        "from resemblyzer import VoiceEncoder, preprocess_wav\n",
        "from sklearn.cluster import KMeans\n",
        "import numpy as np\n",
        "\n",
        "def prepare_wav(in_wav=\"call_raw.wav\", out_wav=\"call_16k.wav\"):\n",
        "    sound = AudioSegment.from_file(in_wav)\n",
        "    sound = sound.set_channels(1).set_frame_rate(16000)\n",
        "    sound.export(out_wav, format=\"wav\")\n",
        "    return out_wav\n",
        "\n",
        "import numpy as np\n",
        "\n",
        "def diarize_by_embeddings(wav_fpath, window_s=1.2, hop_s=0.6, n_speakers=2):\n",
        "    wav = preprocess_wav(wav_fpath)\n",
        "    encoder = VoiceEncoder()\n",
        "\n",
        "    # Break wav into overlapping chunks and embed each\n",
        "    frames = []\n",
        "    i = 0\n",
        "    while i + int(window_s * 16000) <= len(wav):\n",
        "        chunk = wav[i:i + int(window_s * 16000)]\n",
        "        emb = encoder.embed_utterance(chunk)\n",
        "        frames.append(emb)\n",
        "        i += int(hop_s * 16000)\n",
        "\n",
        "    frames = np.vstack(frames)\n",
        "\n",
        "    # Cluster embeddings\n",
        "    kmeans = KMeans(n_clusters=n_speakers).fit(frames)\n",
        "    labels = kmeans.labels_\n",
        "\n",
        "    diarization = []\n",
        "    t = 0\n",
        "    for lab in labels:\n",
        "        diarization.append((t, t + hop_s, int(lab)))\n",
        "        t += hop_s\n",
        "\n",
        "    return diarization\n",
        "\n"
      ]
    },
    {
      "cell_type": "code",
      "execution_count": 41,
      "metadata": {
        "id": "20uqJsW8yifi"
      },
      "outputs": [],
      "source": [
        "from pydub.silence import detect_nonsilent\n",
        "from pydub import effects as pydub_effects\n",
        "\n",
        "def trim_nonsilent_audio(in_wav, out_wav='call_trimmed.wav',\n",
        "                         min_silence_len=400, silence_thresh=-40, keep_silence=200):\n",
        "    \"\"\"Remove long silent parts. Returns path to trimmed file.\"\"\"\n",
        "    if AudioSegment is None:\n",
        "        raise RuntimeError(\"pydub not installed.\")\n",
        "    sound = AudioSegment.from_file(in_wav)\n",
        "    nonsilent = detect_nonsilent(sound, min_silence_len=min_silence_len, silence_thresh=silence_thresh)\n",
        "    if not nonsilent:\n",
        "        # nothing to trim\n",
        "        sound.export(out_wav, format='wav')\n",
        "        return out_wav\n",
        "    pieces = []\n",
        "    for (start, end) in nonsilent:\n",
        "        s = max(0, start - keep_silence)\n",
        "        e = min(len(sound), end + keep_silence)\n",
        "        pieces.append(sound[s:e])\n",
        "    out = pieces[0]\n",
        "    for p in pieces[1:]:\n",
        "        out += p\n",
        "    out = pydub_effects.normalize(out)\n",
        "    out.export(out_wav, format='wav')\n",
        "    return out_wav\n"
      ]
    },
    {
      "cell_type": "code",
      "execution_count": 42,
      "metadata": {
        "id": "Di6Ynet4s_Dg"
      },
      "outputs": [],
      "source": [
        "import whisper\n",
        "\n",
        "def transcribe_whisper(wav_fpath, model_size=\"tiny\"):\n",
        "    model = whisper.load_model(model_size)\n",
        "    result = model.transcribe(wav_fpath)\n",
        "    return result[\"segments\"], result[\"text\"]\n"
      ]
    },
    {
      "cell_type": "code",
      "execution_count": 43,
      "metadata": {
        "id": "wzUahyHatCkL"
      },
      "outputs": [],
      "source": [
        "def align_and_analyze(segments, diar):\n",
        "    speaker_times, speaker_questions, longest_monologue = {}, {}, {}\n",
        "    transcript_by_speaker, combined = {}, []\n",
        "\n",
        "    for start, end, sp in diar:\n",
        "        speaker_times[sp] = speaker_times.get(sp, 0) + (end-start)\n",
        "    for seg in segments:\n",
        "        txt = seg[\"text\"]\n",
        "        sp = min(diar, key=lambda d: abs(d[0]-seg[\"start\"]))[2]\n",
        "        combined.append(f\"Speaker {sp}: {txt}\")\n",
        "        transcript_by_speaker.setdefault(sp, []).append(txt)\n",
        "        if \"?\" in txt: speaker_questions[sp] = speaker_questions.get(sp,0)+1\n",
        "        dur = seg[\"end\"]-seg[\"start\"]\n",
        "        if dur > longest_monologue.get(sp,0): longest_monologue[sp] = dur\n",
        "\n",
        "    total = sum(speaker_times.values())\n",
        "    ratios = {sp: (t/total*100) for sp,t in speaker_times.items()}\n",
        "    return {\n",
        "        \"talk_ratios\": ratios,\n",
        "        \"speaker_times\": speaker_times,\n",
        "        \"speaker_questions\": speaker_questions,\n",
        "        \"longest_monologue\": longest_monologue,\n",
        "        \"combined_transcript\": \"\\n\".join(combined),\n",
        "        \"speaker_texts\": transcript_by_speaker\n",
        "    }\n"
      ]
    },
    {
      "cell_type": "code",
      "execution_count": 44,
      "metadata": {
        "id": "4Di8MZdftHpR"
      },
      "outputs": [],
      "source": [
        "from transformers import pipeline\n",
        "\n",
        "def analyze_sentiment_and_insight(transcript, speaker_times, speaker_questions):\n",
        "    sent_pipeline = pipeline(\"sentiment-analysis\")\n",
        "    parts = transcript.split(\"\\n\")\n",
        "    sentiments = [sent_pipeline(p[:200])[0][\"label\"] for p in parts if p.strip()]\n",
        "    pos = sentiments.count(\"POSITIVE\"); neg = sentiments.count(\"NEGATIVE\")\n",
        "    overall = \"neutral\"\n",
        "    if pos > neg: overall = \"positive\"\n",
        "    elif neg > pos: overall = \"negative\"\n",
        "\n",
        "    rep = max(speaker_times, key=speaker_times.get)\n",
        "    insight = f\"Sales rep (speaker {rep}) dominates the call. Try listening more.\"\n",
        "    return overall, insight, rep\n"
      ]
    },
    {
      "cell_type": "code",
      "execution_count": 45,
      "metadata": {
        "id": "TB6UtVExtT_Z"
      },
      "outputs": [],
      "source": [
        "def run_full_pipeline(youtube_url):\n",
        "    # Step 1: Download YouTube audio\n",
        "    raw_wav = download_youtube_audio(youtube_url, out_fname=\"call_raw.%(ext)s\")\n",
        "\n",
        "    # Step 2: Trim silences (if you’ve defined trim_nonsilent_audio)\n",
        "    trimmed = trim_nonsilent_audio(raw_wav, out_wav=\"call_trimmed.wav\")\n",
        "\n",
        "    # Step 3: Prepare for 16kHz mono\n",
        "    wav16 = prepare_wav(trimmed, out_wav=\"call_16k.wav\")\n",
        "\n",
        "    # Step 4: Diarization\n",
        "    diar = diarize_by_embeddings(wav16, n_speakers=2)\n",
        "\n",
        "    # Step 5: Transcription\n",
        "    segs, full_text = transcribe_whisper(wav16)\n",
        "\n",
        "    # Step 6: Align & analyze\n",
        "    res = align_and_analyze(segs, diar)\n",
        "\n",
        "    # Step 7: Sentiment + actionable insight\n",
        "    sentiment, insight, rep = analyze_sentiment_and_insight(\n",
        "        res[\"combined_transcript\"], res[\"speaker_times\"], res[\"speaker_questions\"]\n",
        "    )\n",
        "\n",
        "    # Step 8: Print results\n",
        "    print(\"=== Final Results ===\")\n",
        "    print(\"Talk-time ratios:\", res[\"talk_ratios\"])\n",
        "    print(\"Questions:\", res[\"speaker_questions\"])\n",
        "    print(\"Longest monologues:\", res[\"longest_monologue\"])\n",
        "    print(\"Call sentiment:\", sentiment)\n",
        "    print(\"Actionable insight:\", insight)\n",
        "    print(f\"(Heuristic: speaker {rep} is likely the sales rep)\")\n",
        "    print(\"Transcript excerpt:\", res[\"combined_transcript\"][:400])\n",
        "\n",
        "    return res, sentiment, insight, rep\n"
      ]
    },
    {
      "cell_type": "code",
      "execution_count": 46,
      "metadata": {
        "id": "7gBhHmc-tZkM",
        "colab": {
          "base_uri": "https://localhost:8080/"
        },
        "outputId": "e0a34a41-780b-42a6-cfbb-0c9d499f3e91"
      },
      "outputs": [
        {
          "output_type": "stream",
          "name": "stdout",
          "text": [
            "[youtube] Extracting URL: https://www.youtube.com/watch?v=4ostqJD3Psc\n",
            "[youtube] 4ostqJD3Psc: Downloading webpage\n",
            "[youtube] 4ostqJD3Psc: Downloading tv simply player API JSON\n",
            "[youtube] 4ostqJD3Psc: Downloading tv client config\n",
            "[youtube] 4ostqJD3Psc: Downloading tv player API JSON\n",
            "[info] 4ostqJD3Psc: Downloading 1 format(s): 251\n",
            "[download] Destination: call_raw.webm\n",
            "[download] 100% of    1.99MiB in 00:00:00 at 5.11MiB/s   \n",
            "[ExtractAudio] Destination: call_raw.wav\n",
            "Deleting original file call_raw.webm (pass -k to keep)\n",
            "Loaded the voice encoder model on cpu in 0.07 seconds.\n"
          ]
        },
        {
          "output_type": "stream",
          "name": "stderr",
          "text": [
            "/usr/local/lib/python3.12/dist-packages/whisper/transcribe.py:132: UserWarning: FP16 is not supported on CPU; using FP32 instead\n",
            "  warnings.warn(\"FP16 is not supported on CPU; using FP32 instead\")\n",
            "No model was supplied, defaulted to distilbert/distilbert-base-uncased-finetuned-sst-2-english and revision 714eb0f (https://huggingface.co/distilbert/distilbert-base-uncased-finetuned-sst-2-english).\n",
            "Using a pipeline without specifying a model name and revision in production is not recommended.\n",
            "Device set to use cpu\n"
          ]
        },
        {
          "output_type": "stream",
          "name": "stdout",
          "text": [
            "=== Final Results ===\n",
            "Talk-time ratios: {1: 58.24175824175819, 0: 41.75824175824181}\n",
            "Questions: {1: 4, 0: 3}\n",
            "Longest monologues: {1: 7.359999999999999, 0: 7.040000000000003}\n",
            "Call sentiment: negative\n",
            "Actionable insight: Sales rep (speaker 1) dominates the call. Try listening more.\n",
            "(Heuristic: speaker 1 is likely the sales rep)\n",
            "Transcript excerpt: Speaker 1:  Thank you for calling Nissan. My name is Lauren. Can I have your name?\n",
            "Speaker 0:  Hamany, Miss. John Smith. Thank you, John. How can I help you?\n",
            "Speaker 0:  I was just calling about to see how much it would cost to update the map in my car.\n",
            "Speaker 1:  I'd be happy to help you with that today. Did you receive a mail-air from us?\n",
            "Speaker 0:  I did. Do you need the customer number?\n",
            "Spea\n"
          ]
        },
        {
          "output_type": "execute_result",
          "data": {
            "text/plain": [
              "({'talk_ratios': {1: 58.24175824175819, 0: 41.75824175824181},\n",
              "  'speaker_times': {1: 63.59999999999975, 0: 45.59999999999992},\n",
              "  'speaker_questions': {1: 4, 0: 3},\n",
              "  'longest_monologue': {1: 7.359999999999999, 0: 7.040000000000003},\n",
              "  'combined_transcript': \"Speaker 1:  Thank you for calling Nissan. My name is Lauren. Can I have your name?\\nSpeaker 0:  Hamany, Miss. John Smith. Thank you, John. How can I help you?\\nSpeaker 0:  I was just calling about to see how much it would cost to update the map in my car.\\nSpeaker 1:  I'd be happy to help you with that today. Did you receive a mail-air from us?\\nSpeaker 0:  I did. Do you need the customer number?\\nSpeaker 0:  Yes, please. Okay. It's 15243. Thank you, and the year-making model of your vehicle.\\nSpeaker 0:  Yeah, I have a 2009 Nissan Altaman.\\nSpeaker 0:  So nice car.\\nSpeaker 0:  Yes, thank you. We really enjoy it.\\nSpeaker 1:  Okay. I think I found your profile here. Can I have you verify your address and phone number, please?\\nSpeaker 0:  Yes. It's 1265 North Research Way.\\nSpeaker 0:  That's an Orem Utah 84097.\\nSpeaker 0:  And my phone number is A01-431-1000.\\nSpeaker 1:  Thanks, John. I located your information.\\nSpeaker 1:  The newest version we have available for your vehicle is version 7.7, which was released in March of 2012.\\nSpeaker 1:  The price of the new map is $99.00 in plus shipping and tax.\\nSpeaker 1:  Let me go ahead and set up this order for you.\\nSpeaker 0:  Well, can we wait just a second? I'm not really sure if I can afford it right now.\\nSpeaker 1:  All right. Well, here are a few reasons to consider purchasing today.\\nSpeaker 1:  It looks as though you haven't updated your vehicle for three years.\\nSpeaker 1:  So that would be the equivalent of getting three years worth of updates for the price of one.\\nSpeaker 1:  Oh, okay.\\nSpeaker 1:  In addition, special offers like the current promotion don't come around too often.\\nSpeaker 1:  I would definitely recommend taking advantage of the extra $50 off before it expires.\\nSpeaker 0:  Yeah, but it does sound pretty good.\\nSpeaker 1:  If I set this order up for you now, it'll ship out today and for $50 less.\\nSpeaker 1:  Do you have your credit card handy and I can play this order for you now?\\nSpeaker 0:  Yeah, let's go ahead and use your visa.\\nSpeaker 0:  My number.\",\n",
              "  'speaker_texts': {1: [' Thank you for calling Nissan. My name is Lauren. Can I have your name?',\n",
              "    \" I'd be happy to help you with that today. Did you receive a mail-air from us?\",\n",
              "    ' Okay. I think I found your profile here. Can I have you verify your address and phone number, please?',\n",
              "    ' Thanks, John. I located your information.',\n",
              "    ' The newest version we have available for your vehicle is version 7.7, which was released in March of 2012.',\n",
              "    ' The price of the new map is $99.00 in plus shipping and tax.',\n",
              "    ' Let me go ahead and set up this order for you.',\n",
              "    ' All right. Well, here are a few reasons to consider purchasing today.',\n",
              "    \" It looks as though you haven't updated your vehicle for three years.\",\n",
              "    ' So that would be the equivalent of getting three years worth of updates for the price of one.',\n",
              "    ' Oh, okay.',\n",
              "    \" In addition, special offers like the current promotion don't come around too often.\",\n",
              "    ' I would definitely recommend taking advantage of the extra $50 off before it expires.',\n",
              "    \" If I set this order up for you now, it'll ship out today and for $50 less.\",\n",
              "    ' Do you have your credit card handy and I can play this order for you now?'],\n",
              "   0: [' Hamany, Miss. John Smith. Thank you, John. How can I help you?',\n",
              "    ' I was just calling about to see how much it would cost to update the map in my car.',\n",
              "    ' I did. Do you need the customer number?',\n",
              "    \" Yes, please. Okay. It's 15243. Thank you, and the year-making model of your vehicle.\",\n",
              "    ' Yeah, I have a 2009 Nissan Altaman.',\n",
              "    ' So nice car.',\n",
              "    ' Yes, thank you. We really enjoy it.',\n",
              "    \" Yes. It's 1265 North Research Way.\",\n",
              "    \" That's an Orem Utah 84097.\",\n",
              "    ' And my phone number is A01-431-1000.',\n",
              "    \" Well, can we wait just a second? I'm not really sure if I can afford it right now.\",\n",
              "    ' Yeah, but it does sound pretty good.',\n",
              "    \" Yeah, let's go ahead and use your visa.\",\n",
              "    ' My number.']}},\n",
              " 'negative',\n",
              " 'Sales rep (speaker 1) dominates the call. Try listening more.',\n",
              " 1)"
            ]
          },
          "metadata": {},
          "execution_count": 46
        }
      ],
      "source": [
        "run_full_pipeline(\"https://www.youtube.com/watch?v=4ostqJD3Psc\")\n"
      ]
    },
    {
      "cell_type": "code",
      "metadata": {
        "id": "f4d06479"
      },
      "source": [
        "readme_content = \"\"\"# Call Quality Analyzer\n",
        "\n",
        "This project analyzes sales call recordings and returns:\n",
        "1. Talk-time ratio (what % each person spoke)\n",
        "2. Number of questions asked\n",
        "3. Longest monologue duration\n",
        "4. Call sentiment (positive/negative/neutral)\n",
        "5. One actionable insight\n",
        "\n",
        "**Bonus:** It also heuristically identifies the sales rep.\n",
        "\n",
        "### How to run\n",
        "- Open `call_quality_analyzer.ipynb` in Google Colab.\n",
        "- Run all cells top to bottom.\n",
        "- Provide a YouTube link (e.g. https://www.youtube.com/watch?v=4ostqJD3Psc).\n",
        "- The notebook will download audio, process it, and print results within ~30s.\n",
        "\n",
        "### Requirements\n",
        "- Free Google Colab tier (CPU is fine).\n",
        "- Python packages: `pydub`, `resemblyzer`, `scikit-learn`, `transformers`, `yt-dlp`, `openai-whisper`.\n",
        "\"\"\"\n",
        "\n",
        "with open(\"README.md\", \"w\") as f:\n",
        "    f.write(readme_content)\n"
      ],
      "execution_count": 47,
      "outputs": []
    }
  ],
  "metadata": {
    "colab": {
      "provenance": [],
      "authorship_tag": "ABX9TyNnHYvB1jPHytCsg7DQ5zv3",
      "include_colab_link": true
    },
    "kernelspec": {
      "display_name": "Python 3",
      "name": "python3"
    },
    "language_info": {
      "name": "python"
    }
  },
  "nbformat": 4,
  "nbformat_minor": 0
}